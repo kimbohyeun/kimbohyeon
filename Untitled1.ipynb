{
  "nbformat": 4,
  "nbformat_minor": 0,
  "metadata": {
    "colab": {
      "name": "Untitled1.ipynb",
      "provenance": []
    },
    "kernelspec": {
      "name": "python3",
      "display_name": "Python 3"
    },
    "language_info": {
      "name": "python"
    }
  },
  "cells": [
    {
      "cell_type": "code",
      "execution_count": 3,
      "metadata": {
        "colab": {
          "base_uri": "https://localhost:8080/"
        },
        "id": "ie3uhOagLZCK",
        "outputId": "a29d6961-d93d-4391-899d-18bac2fbd3d2"
      },
      "outputs": [
        {
          "output_type": "stream",
          "name": "stdout",
          "text": [
            "Looking in indexes: https://pypi.org/simple, https://us-python.pkg.dev/colab-wheels/public/simple/\n",
            "Collecting selenium\n",
            "  Downloading selenium-4.4.3-py3-none-any.whl (985 kB)\n",
            "\u001b[K     |████████████████████████████████| 985 kB 5.0 MB/s \n",
            "\u001b[?25hRequirement already satisfied: certifi>=2021.10.8 in /usr/local/lib/python3.7/dist-packages (from selenium) (2022.6.15)\n",
            "Collecting urllib3[socks]~=1.26\n",
            "  Downloading urllib3-1.26.11-py2.py3-none-any.whl (139 kB)\n",
            "\u001b[K     |████████████████████████████████| 139 kB 56.8 MB/s \n",
            "\u001b[?25hCollecting trio-websocket~=0.9\n",
            "  Downloading trio_websocket-0.9.2-py3-none-any.whl (16 kB)\n",
            "Collecting trio~=0.17\n",
            "  Downloading trio-0.21.0-py3-none-any.whl (358 kB)\n",
            "\u001b[K     |████████████████████████████████| 358 kB 57.4 MB/s \n",
            "\u001b[?25hRequirement already satisfied: attrs>=19.2.0 in /usr/local/lib/python3.7/dist-packages (from trio~=0.17->selenium) (22.1.0)\n",
            "Collecting sniffio\n",
            "  Downloading sniffio-1.2.0-py3-none-any.whl (10 kB)\n",
            "Requirement already satisfied: sortedcontainers in /usr/local/lib/python3.7/dist-packages (from trio~=0.17->selenium) (2.4.0)\n",
            "Collecting outcome\n",
            "  Downloading outcome-1.2.0-py2.py3-none-any.whl (9.7 kB)\n",
            "Collecting async-generator>=1.9\n",
            "  Downloading async_generator-1.10-py3-none-any.whl (18 kB)\n",
            "Requirement already satisfied: idna in /usr/local/lib/python3.7/dist-packages (from trio~=0.17->selenium) (2.10)\n",
            "Collecting wsproto>=0.14\n",
            "  Downloading wsproto-1.1.0-py3-none-any.whl (24 kB)\n",
            "Requirement already satisfied: PySocks!=1.5.7,<2.0,>=1.5.6 in /usr/local/lib/python3.7/dist-packages (from urllib3[socks]~=1.26->selenium) (1.7.1)\n",
            "Collecting h11<1,>=0.9.0\n",
            "  Downloading h11-0.13.0-py3-none-any.whl (58 kB)\n",
            "\u001b[K     |████████████████████████████████| 58 kB 6.5 MB/s \n",
            "\u001b[?25hRequirement already satisfied: typing-extensions in /usr/local/lib/python3.7/dist-packages (from h11<1,>=0.9.0->wsproto>=0.14->trio-websocket~=0.9->selenium) (4.1.1)\n",
            "Installing collected packages: sniffio, outcome, h11, async-generator, wsproto, urllib3, trio, trio-websocket, selenium\n",
            "  Attempting uninstall: urllib3\n",
            "    Found existing installation: urllib3 1.24.3\n",
            "    Uninstalling urllib3-1.24.3:\n",
            "      Successfully uninstalled urllib3-1.24.3\n",
            "\u001b[31mERROR: pip's dependency resolver does not currently take into account all the packages that are installed. This behaviour is the source of the following dependency conflicts.\n",
            "requests 2.23.0 requires urllib3!=1.25.0,!=1.25.1,<1.26,>=1.21.1, but you have urllib3 1.26.11 which is incompatible.\u001b[0m\n",
            "Successfully installed async-generator-1.10 h11-0.13.0 outcome-1.2.0 selenium-4.4.3 sniffio-1.2.0 trio-0.21.0 trio-websocket-0.9.2 urllib3-1.26.11 wsproto-1.1.0\n",
            "Hit:1 http://archive.ubuntu.com/ubuntu bionic InRelease\n",
            "Hit:2 https://cloud.r-project.org/bin/linux/ubuntu bionic-cran40/ InRelease\n",
            "Hit:3 http://archive.ubuntu.com/ubuntu bionic-updates InRelease\n",
            "Ign:4 https://developer.download.nvidia.com/compute/machine-learning/repos/ubuntu1804/x86_64  InRelease\n",
            "Hit:5 http://archive.ubuntu.com/ubuntu bionic-backports InRelease\n",
            "Hit:6 https://developer.download.nvidia.com/compute/cuda/repos/ubuntu1804/x86_64  InRelease\n",
            "Hit:7 http://security.ubuntu.com/ubuntu bionic-security InRelease\n",
            "Hit:8 https://developer.download.nvidia.com/compute/machine-learning/repos/ubuntu1804/x86_64  Release\n",
            "Hit:9 http://ppa.launchpad.net/c2d4u.team/c2d4u4.0+/ubuntu bionic InRelease\n",
            "Hit:10 http://ppa.launchpad.net/cran/libgit2/ubuntu bionic InRelease\n",
            "Hit:11 http://ppa.launchpad.net/deadsnakes/ppa/ubuntu bionic InRelease\n",
            "Hit:12 http://ppa.launchpad.net/graphics-drivers/ppa/ubuntu bionic InRelease\n",
            "Reading package lists... Done\n",
            "Reading package lists... Done\n",
            "Building dependency tree       \n",
            "Reading state information... Done\n",
            "chromium-chromedriver is already the newest version (103.0.5060.134-0ubuntu0.18.04.1).\n",
            "The following package was automatically installed and is no longer required:\n",
            "  libnvidia-common-460\n",
            "Use 'apt autoremove' to remove it.\n",
            "0 upgraded, 0 newly installed, 0 to remove and 25 not upgraded.\n"
          ]
        }
      ],
      "source": [
        "!pip install selenium\n",
        "!apt-get update\n",
        "!apt install chromium-chromedriver"
      ]
    },
    {
      "cell_type": "code",
      "source": [
        "from selenium import webdriver\n",
        "from selenium.webdriver.common.by import By\n",
        "\n",
        "import urllib\n",
        "import os"
      ],
      "metadata": {
        "id": "fpbXvgZRRg3Z"
      },
      "execution_count": 5,
      "outputs": []
    },
    {
      "cell_type": "code",
      "source": [
        "def news(name):\n",
        "  url = f'https://news.naver.com/'\n",
        "  chrome_options = webdriver.ChromeOptions()\n",
        "\n",
        "  chrome_options.add_argument('--headless')\n",
        "  chrome_options.add_argument('--no-sandbox')\n",
        "  user_agent = 'Mozilla/5.0'\n",
        "  chrome_options.add_argument(f'user-agent={user_agent}')\n",
        "\n",
        "  driver = webdriver.Chrome(options=chrome_options)\n",
        "  driver.get(url)\n",
        "\n",
        "  news_title = driver.find_elements(By.CSS_SELECTOR,\"#ct > div > section.main_content > div.main_brick > div > div:nth-child(1) > div.main_brick_item._channel_news_preview_wrapper > div:nth-child(1) > div > div:nth-child(4) > a > div.cjs_news_tw > div\")\n",
        "  print(news_title[0].get_attribute(\"innerText\"))"
      ],
      "metadata": {
        "id": "-_S5xRhwS2cX"
      },
      "execution_count": 11,
      "outputs": []
    },
    {
      "cell_type": "code",
      "source": [
        "news(news)"
      ],
      "metadata": {
        "colab": {
          "base_uri": "https://localhost:8080/"
        },
        "id": "iVR9IAU8Xe_v",
        "outputId": "b21958bc-a17b-4c30-db1c-ad17f1c103c5"
      },
      "execution_count": 12,
      "outputs": [
        {
          "output_type": "stream",
          "name": "stdout",
          "text": [
            "다둥이 엄마 정주리, 특공으로 당첨 43평 한강뷰 아파트 어디?\n"
          ]
        }
      ]
    },
    {
      "cell_type": "code",
      "source": [
        "def imageDown(keyword):\n",
        "\n",
        "  chrome_options = webdriver.ChromeOptions()\n",
        "\n",
        "  chrome_options.add_argument('--headless')\n",
        "  chrome_options.add_argument('--no-sandbox')\n",
        "  user_agent = 'Mozilla/5.0'\n",
        "  chrome_options.add_argument(f'user-agent={user_agent}')\n",
        "\n",
        "  driver = webdriver.Chrome(options=chrome_options)\n",
        "\n",
        "  url = f\"https://www.google.com/search?q={keyword}&source=lnms&tbm=isch\"\n",
        "  driver.get(url)\n",
        "\n",
        "  os.makedirs(keyword, exist_ok=True)\n",
        "  imgs =driver.find_elements(By.CSS_SELECTOR, \"img\")\n",
        "\n",
        "  for idx, img in enumerate(imgs):\n",
        "    print(img.get_attribute(\"src\"))\n",
        "    imgUrl = img.get_attribute(\"src\")\n",
        "\n",
        "    if imgUrl == None:\n",
        "      continue\n",
        "    imgName = f'./{keyword}/{keyword+str(idx)}.jpg'\n",
        "    urllib.request.urlretrieve(imgUrl, imgName)\n",
        "  driver.quit()"
      ],
      "metadata": {
        "id": "bxHFmFmsWxbq"
      },
      "execution_count": 24,
      "outputs": []
    },
    {
      "cell_type": "code",
      "source": [
        "imageDown(\"김보현\")"
      ],
      "metadata": {
        "colab": {
          "base_uri": "https://localhost:8080/"
        },
        "id": "hSRRKUP6aUnT",
        "outputId": "eb692467-a08a-448f-f03a-07210af69847"
      },
      "execution_count": 25,
      "outputs": [
        {
          "output_type": "stream",
          "name": "stdout",
          "text": [
            "https://www.google.com/images/branding/searchlogo/1x/googlelogo_desk_heirloom_color_150x55dp.gif\n",
            "https://encrypted-tbn0.gstatic.com/images?q=tbn:ANd9GcSPacrgcoT6fnbaji-SeWQh5x98RXmm8gu7WNAwHdc8NhvDm7RjdxuhQcoinA&s\n",
            "https://encrypted-tbn0.gstatic.com/images?q=tbn:ANd9GcQcQnMyymzev-O57S52aktY0qwq17GNOo2D2Bqca9ppqzm4niaXdkxnMUjzYuU&s\n",
            "https://encrypted-tbn0.gstatic.com/images?q=tbn:ANd9GcQnLJNHbTI8txW_4Ab_AUcCK0r_oPrW5oXOp6Dq61fAK8afcHDUlRaFHJaz_nU&s\n",
            "https://encrypted-tbn0.gstatic.com/images?q=tbn:ANd9GcRf5_twVEtiF_BG1s1Qac-5G0yEauhA0WyXS-lF_vqKOVYdHJg33PI_d263Jw&s\n",
            "https://encrypted-tbn0.gstatic.com/images?q=tbn:ANd9GcSRPQUyKw0flxWlfMOQDKpfLhSpGIl2KKwOkcHg4Elhpx5nJ_b0m9wcdh9-Yjk&s\n",
            "https://encrypted-tbn0.gstatic.com/images?q=tbn:ANd9GcT3EIQLgGzNjAsCu2QCykVCkz3hi6qPSZS5Iq4ykqNoH_c4d8kMkLwdt4WmbZY&s\n",
            "https://encrypted-tbn0.gstatic.com/images?q=tbn:ANd9GcTawMdiIa38_CroZzToB4lSIQ18lB_PKKR5Qd9Y73zzNgosloTKHusDyNunCFo&s\n",
            "https://encrypted-tbn0.gstatic.com/images?q=tbn:ANd9GcT1GXLh05TCQwPRZWBbM2gXBrT_ay3AW_DFBdBMvhs1H-VQtu_hHnOgAFmvKQ&s\n",
            "https://encrypted-tbn0.gstatic.com/images?q=tbn:ANd9GcRO80FJHKHrnjy7P3BwFF-HCzpXJ9AvtMtxr5RpHW9ehGobXn-AxEVI4AEM2Q&s\n",
            "https://encrypted-tbn0.gstatic.com/images?q=tbn:ANd9GcR68eAU0OVn1dDurO6HdoLCOaXnb5DBvyDnWyc_tNCdl67tIsrYMr1Wt7w9LA&s\n",
            "https://encrypted-tbn0.gstatic.com/images?q=tbn:ANd9GcRVoTgTn4XpHR-wVa4j8jipFa8I1x4UUKS4AJ9KLorILLcYu1XuOjcW0-SDaQ&s\n",
            "https://encrypted-tbn0.gstatic.com/images?q=tbn:ANd9GcRC3iMjHnm6O4pnBCKyldxXLjB7rD2UKvS8mDU_l3rCoPzMNifWB6_T6xAEtQ&s\n",
            "https://encrypted-tbn0.gstatic.com/images?q=tbn:ANd9GcRo5Tzijcas117uzMP232LLBO7-JmSVXLuL8Ab_vQ5FHLW9xrvSvZ9ROd6F33k&s\n",
            "https://encrypted-tbn0.gstatic.com/images?q=tbn:ANd9GcQqX2pFEIUhgsnH9Wxa-0CvpjIWwI_HkqlqIX8FIZJsTQvMwAL1iS2o9fhcs0o&s\n",
            "https://encrypted-tbn0.gstatic.com/images?q=tbn:ANd9GcQk9WViTM-VnD_eVUfNzBT2L2nvUDjL_eXj_wrwhtfVs_yig6WKUIpm8kv3azc&s\n",
            "https://encrypted-tbn0.gstatic.com/images?q=tbn:ANd9GcRkzKa1TnAi3u8gABNFbLcRNwCBjouXyz8z0BEistwbjTG87StfCruoqNDCHw&s\n",
            "https://encrypted-tbn0.gstatic.com/images?q=tbn:ANd9GcS7HFAcBMSE2tKwVOKE2-fGm2u5tSBrWAEGFGtS_UCcw1u1pVsXD-tAMkzW0A&s\n",
            "https://encrypted-tbn0.gstatic.com/images?q=tbn:ANd9GcQMeM9WI2sCDtIJ62b03C0fmzKso5DCqyEAQIzrCgcdfzy9VqFy539LURY8bSU&s\n",
            "https://encrypted-tbn0.gstatic.com/images?q=tbn:ANd9GcTEiGkXpCxxJjn66Fbf2RLJdEd2WhbTLfNUtcZnyZnNJtoaQgZcuM02yVGoO3U&s\n",
            "https://encrypted-tbn0.gstatic.com/images?q=tbn:ANd9GcTqMde8E2KWXh9Aui3iDdqDNKjIOve2DetfVijEIPV4KIdsS15Pe6GAjM_rMg&s\n"
          ]
        }
      ]
    },
    {
      "cell_type": "code",
      "source": [
        ""
      ],
      "metadata": {
        "id": "soXNesQObLCR"
      },
      "execution_count": null,
      "outputs": []
    }
  ]
}